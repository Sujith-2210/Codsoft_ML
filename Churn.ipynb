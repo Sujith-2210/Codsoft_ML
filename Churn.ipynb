{
 "cells": [
  {
   "cell_type": "code",
   "execution_count": 1,
   "id": "249d6c01-855a-40d0-8551-34e5da0cd32b",
   "metadata": {},
   "outputs": [],
   "source": [
    "import pandas as pd\n",
    "from sklearn.model_selection import train_test_split\n",
    "from sklearn.preprocessing import LabelEncoder\n",
    "from sklearn.linear_model import LogisticRegression\n",
    "from sklearn.ensemble import RandomForestClassifier, GradientBoostingClassifier\n",
    "from sklearn.metrics import accuracy_score, confusion_matrix, classification_report"
   ]
  },
  {
   "cell_type": "code",
   "execution_count": 2,
   "id": "1b72033e-5efa-4f95-a530-0b37f9aac598",
   "metadata": {},
   "outputs": [],
   "source": [
    "data = pd.read_csv(r\"C:\\Users\\sssuj\\Downloads\\Churn_Modelling.csv\")"
   ]
  },
  {
   "cell_type": "code",
   "execution_count": 3,
   "id": "c528b330-7d29-4342-979b-694361edf610",
   "metadata": {},
   "outputs": [],
   "source": [
    "data_cleaned = data.drop(columns=['RowNumber', 'CustomerId', 'Surname'])"
   ]
  },
  {
   "cell_type": "code",
   "execution_count": 4,
   "id": "e0237c30-910f-4b24-85dc-46696155e144",
   "metadata": {},
   "outputs": [],
   "source": [
    "label_encoder_gender = LabelEncoder()\n",
    "label_encoder_geo = LabelEncoder()"
   ]
  },
  {
   "cell_type": "code",
   "execution_count": 5,
   "id": "d0f92c0d-d121-48cd-9abe-d7acc0272698",
   "metadata": {},
   "outputs": [],
   "source": [
    "data_cleaned['Gender'] = label_encoder_gender.fit_transform(data_cleaned['Gender'])\n",
    "data_cleaned['Geography'] = label_encoder_geo.fit_transform(data_cleaned['Geography'])"
   ]
  },
  {
   "cell_type": "code",
   "execution_count": 6,
   "id": "a356717a-a1f3-4aec-8541-ef4073884f41",
   "metadata": {},
   "outputs": [],
   "source": [
    "X = data_cleaned.drop(columns=['Exited'])\n",
    "y = data_cleaned['Exited']"
   ]
  },
  {
   "cell_type": "code",
   "execution_count": 7,
   "id": "35c7f7c0-a4ce-477b-9e00-cf0cd881da3e",
   "metadata": {},
   "outputs": [],
   "source": [
    "X_train, X_test, y_train, y_test = train_test_split(X, y, test_size=0.2, random_state=42)"
   ]
  },
  {
   "cell_type": "code",
   "execution_count": 8,
   "id": "2ada7142-c665-41cf-b879-acd7aa702d26",
   "metadata": {},
   "outputs": [],
   "source": [
    "logreg = LogisticRegression(max_iter=1000)\n",
    "logreg.fit(X_train, y_train)\n",
    "y_pred_logreg = logreg.predict(X_test)"
   ]
  },
  {
   "cell_type": "code",
   "execution_count": 9,
   "id": "1dbbf4d5-3774-4c61-8ca1-f332bee48b5e",
   "metadata": {},
   "outputs": [],
   "source": [
    "rf = RandomForestClassifier(n_estimators=100, random_state=42)\n",
    "rf.fit(X_train, y_train)\n",
    "y_pred_rf = rf.predict(X_test)"
   ]
  },
  {
   "cell_type": "code",
   "execution_count": 10,
   "id": "e6274580-9577-489d-8c8c-1f731db800d6",
   "metadata": {},
   "outputs": [],
   "source": [
    "gb = GradientBoostingClassifier(n_estimators=100, random_state=42)\n",
    "gb.fit(X_train, y_train)\n",
    "y_pred_gb = gb.predict(X_test)"
   ]
  },
  {
   "cell_type": "code",
   "execution_count": 11,
   "id": "4fa22e5e-1cf9-44be-83ab-c82b653cc80e",
   "metadata": {},
   "outputs": [],
   "source": [
    "def evaluate_model(model_name, y_test, y_pred):\n",
    "    print(f\"Results for {model_name}:\")\n",
    "    print(\"Accuracy:\", accuracy_score(y_test, y_pred))\n",
    "    print(\"Confusion Matrix:\\n\", confusion_matrix(y_test, y_pred))\n",
    "    print(\"Classification Report:\\n\", classification_report(y_test, y_pred))\n",
    "    print(\"=\"*60)"
   ]
  },
  {
   "cell_type": "code",
   "execution_count": 12,
   "id": "c9472acd-a3f5-4e31-aa6c-085daf7d4156",
   "metadata": {},
   "outputs": [
    {
     "name": "stdout",
     "output_type": "stream",
     "text": [
      "Results for Logistic Regression:\n",
      "Accuracy: 0.8005\n",
      "Confusion Matrix:\n",
      " [[1573   34]\n",
      " [ 365   28]]\n",
      "Classification Report:\n",
      "               precision    recall  f1-score   support\n",
      "\n",
      "           0       0.81      0.98      0.89      1607\n",
      "           1       0.45      0.07      0.12       393\n",
      "\n",
      "    accuracy                           0.80      2000\n",
      "   macro avg       0.63      0.53      0.51      2000\n",
      "weighted avg       0.74      0.80      0.74      2000\n",
      "\n",
      "============================================================\n"
     ]
    }
   ],
   "source": [
    "evaluate_model(\"Logistic Regression\", y_test, y_pred_logreg)"
   ]
  },
  {
   "cell_type": "code",
   "execution_count": 13,
   "id": "23355380-b6d2-4a09-bb28-516e290d0aa7",
   "metadata": {},
   "outputs": [
    {
     "name": "stdout",
     "output_type": "stream",
     "text": [
      "Results for Random Forest:\n",
      "Accuracy: 0.8645\n",
      "Confusion Matrix:\n",
      " [[1546   61]\n",
      " [ 210  183]]\n",
      "Classification Report:\n",
      "               precision    recall  f1-score   support\n",
      "\n",
      "           0       0.88      0.96      0.92      1607\n",
      "           1       0.75      0.47      0.57       393\n",
      "\n",
      "    accuracy                           0.86      2000\n",
      "   macro avg       0.82      0.71      0.75      2000\n",
      "weighted avg       0.85      0.86      0.85      2000\n",
      "\n",
      "============================================================\n"
     ]
    }
   ],
   "source": [
    "evaluate_model(\"Random Forest\", y_test, y_pred_rf)"
   ]
  },
  {
   "cell_type": "code",
   "execution_count": 14,
   "id": "30c63877-ffb1-477d-be3d-6a898774f997",
   "metadata": {},
   "outputs": [
    {
     "name": "stdout",
     "output_type": "stream",
     "text": [
      "Results for Gradient Boosting:\n",
      "Accuracy: 0.8655\n",
      "Confusion Matrix:\n",
      " [[1547   60]\n",
      " [ 209  184]]\n",
      "Classification Report:\n",
      "               precision    recall  f1-score   support\n",
      "\n",
      "           0       0.88      0.96      0.92      1607\n",
      "           1       0.75      0.47      0.58       393\n",
      "\n",
      "    accuracy                           0.87      2000\n",
      "   macro avg       0.82      0.72      0.75      2000\n",
      "weighted avg       0.86      0.87      0.85      2000\n",
      "\n",
      "============================================================\n"
     ]
    }
   ],
   "source": [
    "evaluate_model(\"Gradient Boosting\", y_test, y_pred_gb)"
   ]
  }
 ],
 "metadata": {
  "kernelspec": {
   "display_name": "Python 3 (ipykernel)",
   "language": "python",
   "name": "python3"
  },
  "language_info": {
   "codemirror_mode": {
    "name": "ipython",
    "version": 3
   },
   "file_extension": ".py",
   "mimetype": "text/x-python",
   "name": "python",
   "nbconvert_exporter": "python",
   "pygments_lexer": "ipython3",
   "version": "3.11.7"
  }
 },
 "nbformat": 4,
 "nbformat_minor": 5
}
